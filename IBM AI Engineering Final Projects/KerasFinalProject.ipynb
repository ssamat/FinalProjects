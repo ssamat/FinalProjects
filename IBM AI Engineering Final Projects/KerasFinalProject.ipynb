{
 "cells": [
  {
   "cell_type": "markdown",
   "id": "9b461fbe-6617-4380-8246-3a02507eb498",
   "metadata": {},
   "source": [
    "## A. Build a baseline model (5 marks)"
   ]
  },
  {
   "cell_type": "markdown",
   "id": "eae9d299-7b2c-411b-af41-c296a41ac45c",
   "metadata": {},
   "source": [
    "Use the Keras library to build a neural network with the following:\n",
    "\n",
    "One hidden layer of 10 nodes, and a ReLU activation function\n",
    "\n",
    "Use the adam optimizer and the mean squared error as the loss function.\n",
    "\n",
    "Randomly split the data into a training and test sets by holding 30% of the data for testing. You can use the train_test_splithelper function from Scikit-learn.\n",
    "\n",
    "Train the model on the training data using 50 epochs.\n",
    "\n",
    "Evaluate the model on the test data and compute the mean squared error between the predicted concrete strength and the actual concrete strength. You can use the mean_squared_error function from Scikit-learn.\n",
    "\n",
    "Repeat steps 1 - 3, 50 times, i.e., create a list of 50 mean squared errors.\n",
    "\n",
    "Report the mean and the standard deviation of the mean squared errors.\n",
    "\n",
    "Submit your Jupyter Notebook with your code and comments."
   ]
  },
  {
   "cell_type": "code",
   "execution_count": 1,
   "id": "24d8f52a-d6fe-40fa-a9ba-5eadb0147ad1",
   "metadata": {
    "tags": []
   },
   "outputs": [],
   "source": [
    "import pandas as pd\n",
    "import numpy as np"
   ]
  },
  {
   "cell_type": "markdown",
   "id": "8c6ff55b-92b5-4995-8444-c7c2ed2908ca",
   "metadata": {},
   "source": [
    "We will be playing around with the same dataset that we used in the videos.\n",
    "\n",
    "<strong>The dataset is about the compressive strength of different samples of concrete based on the volumes of the different ingredients that were used to make them. Ingredients include:</strong>\n",
    "\n",
    "<strong>1. Cement</strong>\n",
    "\n",
    "<strong>2. Blast Furnace Slag</strong>\n",
    "\n",
    "<strong>3. Fly Ash</strong>\n",
    "\n",
    "<strong>4. Water</strong>\n",
    "\n",
    "<strong>5. Superplasticizer</strong>\n",
    "\n",
    "<strong>6. Coarse Aggregate</strong>\n",
    "\n",
    "<strong>7. Fine Aggregate</strong>\n"
   ]
  },
  {
   "cell_type": "markdown",
   "id": "bff612a7-c0c1-43d3-92b9-159bd9d7e020",
   "metadata": {},
   "source": [
    "Let's download the data and read it into a <em>pandas</em> dataframe.\n"
   ]
  },
  {
   "cell_type": "code",
   "execution_count": 2,
   "id": "85db1ca6-7ff7-44b3-9b08-287d76e67694",
   "metadata": {
    "tags": []
   },
   "outputs": [
    {
     "data": {
      "text/html": [
       "<div>\n",
       "<style scoped>\n",
       "    .dataframe tbody tr th:only-of-type {\n",
       "        vertical-align: middle;\n",
       "    }\n",
       "\n",
       "    .dataframe tbody tr th {\n",
       "        vertical-align: top;\n",
       "    }\n",
       "\n",
       "    .dataframe thead th {\n",
       "        text-align: right;\n",
       "    }\n",
       "</style>\n",
       "<table border=\"1\" class=\"dataframe\">\n",
       "  <thead>\n",
       "    <tr style=\"text-align: right;\">\n",
       "      <th></th>\n",
       "      <th>Cement</th>\n",
       "      <th>Blast Furnace Slag</th>\n",
       "      <th>Fly Ash</th>\n",
       "      <th>Water</th>\n",
       "      <th>Superplasticizer</th>\n",
       "      <th>Coarse Aggregate</th>\n",
       "      <th>Fine Aggregate</th>\n",
       "      <th>Age</th>\n",
       "      <th>Strength</th>\n",
       "    </tr>\n",
       "  </thead>\n",
       "  <tbody>\n",
       "    <tr>\n",
       "      <th>0</th>\n",
       "      <td>540.0</td>\n",
       "      <td>0.0</td>\n",
       "      <td>0.0</td>\n",
       "      <td>162.0</td>\n",
       "      <td>2.5</td>\n",
       "      <td>1040.0</td>\n",
       "      <td>676.0</td>\n",
       "      <td>28</td>\n",
       "      <td>79.99</td>\n",
       "    </tr>\n",
       "    <tr>\n",
       "      <th>1</th>\n",
       "      <td>540.0</td>\n",
       "      <td>0.0</td>\n",
       "      <td>0.0</td>\n",
       "      <td>162.0</td>\n",
       "      <td>2.5</td>\n",
       "      <td>1055.0</td>\n",
       "      <td>676.0</td>\n",
       "      <td>28</td>\n",
       "      <td>61.89</td>\n",
       "    </tr>\n",
       "    <tr>\n",
       "      <th>2</th>\n",
       "      <td>332.5</td>\n",
       "      <td>142.5</td>\n",
       "      <td>0.0</td>\n",
       "      <td>228.0</td>\n",
       "      <td>0.0</td>\n",
       "      <td>932.0</td>\n",
       "      <td>594.0</td>\n",
       "      <td>270</td>\n",
       "      <td>40.27</td>\n",
       "    </tr>\n",
       "    <tr>\n",
       "      <th>3</th>\n",
       "      <td>332.5</td>\n",
       "      <td>142.5</td>\n",
       "      <td>0.0</td>\n",
       "      <td>228.0</td>\n",
       "      <td>0.0</td>\n",
       "      <td>932.0</td>\n",
       "      <td>594.0</td>\n",
       "      <td>365</td>\n",
       "      <td>41.05</td>\n",
       "    </tr>\n",
       "    <tr>\n",
       "      <th>4</th>\n",
       "      <td>198.6</td>\n",
       "      <td>132.4</td>\n",
       "      <td>0.0</td>\n",
       "      <td>192.0</td>\n",
       "      <td>0.0</td>\n",
       "      <td>978.4</td>\n",
       "      <td>825.5</td>\n",
       "      <td>360</td>\n",
       "      <td>44.30</td>\n",
       "    </tr>\n",
       "  </tbody>\n",
       "</table>\n",
       "</div>"
      ],
      "text/plain": [
       "   Cement  Blast Furnace Slag  Fly Ash  Water  Superplasticizer  \\\n",
       "0   540.0                 0.0      0.0  162.0               2.5   \n",
       "1   540.0                 0.0      0.0  162.0               2.5   \n",
       "2   332.5               142.5      0.0  228.0               0.0   \n",
       "3   332.5               142.5      0.0  228.0               0.0   \n",
       "4   198.6               132.4      0.0  192.0               0.0   \n",
       "\n",
       "   Coarse Aggregate  Fine Aggregate  Age  Strength  \n",
       "0            1040.0           676.0   28     79.99  \n",
       "1            1055.0           676.0   28     61.89  \n",
       "2             932.0           594.0  270     40.27  \n",
       "3             932.0           594.0  365     41.05  \n",
       "4             978.4           825.5  360     44.30  "
      ]
     },
     "execution_count": 2,
     "metadata": {},
     "output_type": "execute_result"
    }
   ],
   "source": [
    "concrete_data = pd.read_csv('https://s3-api.us-geo.objectstorage.softlayer.net/cf-courses-data/CognitiveClass/DL0101EN/labs/data/concrete_data.csv')\n",
    "concrete_data.head()"
   ]
  },
  {
   "cell_type": "markdown",
   "id": "bbce14d4-b74c-444d-a71b-b46b173a482f",
   "metadata": {},
   "source": [
    "So the first concrete sample has 540 cubic meter of cement, 0 cubic meter of blast furnace slag, 0 cubic meter of fly ash, 162 cubic meter of water, 2.5 cubic meter of superplaticizer, 1040 cubic meter of coarse aggregate, 676 cubic meter of fine aggregate. Such a concrete mix which is 28 days old, has a compressive strength of 79.99 MPa. \n"
   ]
  },
  {
   "cell_type": "markdown",
   "id": "93ff1750-b7aa-4cb8-a6bd-fed149877e67",
   "metadata": {},
   "source": [
    "#### Let's check how many data points we have.\n"
   ]
  },
  {
   "cell_type": "code",
   "execution_count": 3,
   "id": "6f976edd-6493-4e90-8202-16faa3ff1d0e",
   "metadata": {
    "tags": []
   },
   "outputs": [
    {
     "data": {
      "text/plain": [
       "(1030, 9)"
      ]
     },
     "execution_count": 3,
     "metadata": {},
     "output_type": "execute_result"
    }
   ],
   "source": [
    "concrete_data.shape"
   ]
  },
  {
   "cell_type": "markdown",
   "id": "e37ddc96-cb61-4218-bcf9-20ce95555a98",
   "metadata": {},
   "source": [
    "So, there are approximately 1000 samples to train our model on. Because of the few samples, we have to be careful not to overfit the training data.\n"
   ]
  },
  {
   "cell_type": "markdown",
   "id": "1a9a8b6f-920d-41a3-83c3-7a3b77dbc44e",
   "metadata": {},
   "source": [
    "Let's check the dataset for any missing values.\n"
   ]
  },
  {
   "cell_type": "code",
   "execution_count": 4,
   "id": "1f58f342-a396-4288-b9e7-0513d84c95b9",
   "metadata": {
    "tags": []
   },
   "outputs": [
    {
     "data": {
      "text/html": [
       "<div>\n",
       "<style scoped>\n",
       "    .dataframe tbody tr th:only-of-type {\n",
       "        vertical-align: middle;\n",
       "    }\n",
       "\n",
       "    .dataframe tbody tr th {\n",
       "        vertical-align: top;\n",
       "    }\n",
       "\n",
       "    .dataframe thead th {\n",
       "        text-align: right;\n",
       "    }\n",
       "</style>\n",
       "<table border=\"1\" class=\"dataframe\">\n",
       "  <thead>\n",
       "    <tr style=\"text-align: right;\">\n",
       "      <th></th>\n",
       "      <th>Cement</th>\n",
       "      <th>Blast Furnace Slag</th>\n",
       "      <th>Fly Ash</th>\n",
       "      <th>Water</th>\n",
       "      <th>Superplasticizer</th>\n",
       "      <th>Coarse Aggregate</th>\n",
       "      <th>Fine Aggregate</th>\n",
       "      <th>Age</th>\n",
       "      <th>Strength</th>\n",
       "    </tr>\n",
       "  </thead>\n",
       "  <tbody>\n",
       "    <tr>\n",
       "      <th>count</th>\n",
       "      <td>1030.000000</td>\n",
       "      <td>1030.000000</td>\n",
       "      <td>1030.000000</td>\n",
       "      <td>1030.000000</td>\n",
       "      <td>1030.000000</td>\n",
       "      <td>1030.000000</td>\n",
       "      <td>1030.000000</td>\n",
       "      <td>1030.000000</td>\n",
       "      <td>1030.000000</td>\n",
       "    </tr>\n",
       "    <tr>\n",
       "      <th>mean</th>\n",
       "      <td>281.167864</td>\n",
       "      <td>73.895825</td>\n",
       "      <td>54.188350</td>\n",
       "      <td>181.567282</td>\n",
       "      <td>6.204660</td>\n",
       "      <td>972.918932</td>\n",
       "      <td>773.580485</td>\n",
       "      <td>45.662136</td>\n",
       "      <td>35.817961</td>\n",
       "    </tr>\n",
       "    <tr>\n",
       "      <th>std</th>\n",
       "      <td>104.506364</td>\n",
       "      <td>86.279342</td>\n",
       "      <td>63.997004</td>\n",
       "      <td>21.354219</td>\n",
       "      <td>5.973841</td>\n",
       "      <td>77.753954</td>\n",
       "      <td>80.175980</td>\n",
       "      <td>63.169912</td>\n",
       "      <td>16.705742</td>\n",
       "    </tr>\n",
       "    <tr>\n",
       "      <th>min</th>\n",
       "      <td>102.000000</td>\n",
       "      <td>0.000000</td>\n",
       "      <td>0.000000</td>\n",
       "      <td>121.800000</td>\n",
       "      <td>0.000000</td>\n",
       "      <td>801.000000</td>\n",
       "      <td>594.000000</td>\n",
       "      <td>1.000000</td>\n",
       "      <td>2.330000</td>\n",
       "    </tr>\n",
       "    <tr>\n",
       "      <th>25%</th>\n",
       "      <td>192.375000</td>\n",
       "      <td>0.000000</td>\n",
       "      <td>0.000000</td>\n",
       "      <td>164.900000</td>\n",
       "      <td>0.000000</td>\n",
       "      <td>932.000000</td>\n",
       "      <td>730.950000</td>\n",
       "      <td>7.000000</td>\n",
       "      <td>23.710000</td>\n",
       "    </tr>\n",
       "    <tr>\n",
       "      <th>50%</th>\n",
       "      <td>272.900000</td>\n",
       "      <td>22.000000</td>\n",
       "      <td>0.000000</td>\n",
       "      <td>185.000000</td>\n",
       "      <td>6.400000</td>\n",
       "      <td>968.000000</td>\n",
       "      <td>779.500000</td>\n",
       "      <td>28.000000</td>\n",
       "      <td>34.445000</td>\n",
       "    </tr>\n",
       "    <tr>\n",
       "      <th>75%</th>\n",
       "      <td>350.000000</td>\n",
       "      <td>142.950000</td>\n",
       "      <td>118.300000</td>\n",
       "      <td>192.000000</td>\n",
       "      <td>10.200000</td>\n",
       "      <td>1029.400000</td>\n",
       "      <td>824.000000</td>\n",
       "      <td>56.000000</td>\n",
       "      <td>46.135000</td>\n",
       "    </tr>\n",
       "    <tr>\n",
       "      <th>max</th>\n",
       "      <td>540.000000</td>\n",
       "      <td>359.400000</td>\n",
       "      <td>200.100000</td>\n",
       "      <td>247.000000</td>\n",
       "      <td>32.200000</td>\n",
       "      <td>1145.000000</td>\n",
       "      <td>992.600000</td>\n",
       "      <td>365.000000</td>\n",
       "      <td>82.600000</td>\n",
       "    </tr>\n",
       "  </tbody>\n",
       "</table>\n",
       "</div>"
      ],
      "text/plain": [
       "            Cement  Blast Furnace Slag      Fly Ash        Water  \\\n",
       "count  1030.000000         1030.000000  1030.000000  1030.000000   \n",
       "mean    281.167864           73.895825    54.188350   181.567282   \n",
       "std     104.506364           86.279342    63.997004    21.354219   \n",
       "min     102.000000            0.000000     0.000000   121.800000   \n",
       "25%     192.375000            0.000000     0.000000   164.900000   \n",
       "50%     272.900000           22.000000     0.000000   185.000000   \n",
       "75%     350.000000          142.950000   118.300000   192.000000   \n",
       "max     540.000000          359.400000   200.100000   247.000000   \n",
       "\n",
       "       Superplasticizer  Coarse Aggregate  Fine Aggregate          Age  \\\n",
       "count       1030.000000       1030.000000     1030.000000  1030.000000   \n",
       "mean           6.204660        972.918932      773.580485    45.662136   \n",
       "std            5.973841         77.753954       80.175980    63.169912   \n",
       "min            0.000000        801.000000      594.000000     1.000000   \n",
       "25%            0.000000        932.000000      730.950000     7.000000   \n",
       "50%            6.400000        968.000000      779.500000    28.000000   \n",
       "75%           10.200000       1029.400000      824.000000    56.000000   \n",
       "max           32.200000       1145.000000      992.600000   365.000000   \n",
       "\n",
       "          Strength  \n",
       "count  1030.000000  \n",
       "mean     35.817961  \n",
       "std      16.705742  \n",
       "min       2.330000  \n",
       "25%      23.710000  \n",
       "50%      34.445000  \n",
       "75%      46.135000  \n",
       "max      82.600000  "
      ]
     },
     "execution_count": 4,
     "metadata": {},
     "output_type": "execute_result"
    }
   ],
   "source": [
    "concrete_data.describe()"
   ]
  },
  {
   "cell_type": "code",
   "execution_count": 5,
   "id": "bf5e82ba-8a40-4e72-bc26-36a9f593b783",
   "metadata": {
    "tags": []
   },
   "outputs": [
    {
     "data": {
      "text/plain": [
       "Cement                0\n",
       "Blast Furnace Slag    0\n",
       "Fly Ash               0\n",
       "Water                 0\n",
       "Superplasticizer      0\n",
       "Coarse Aggregate      0\n",
       "Fine Aggregate        0\n",
       "Age                   0\n",
       "Strength              0\n",
       "dtype: int64"
      ]
     },
     "execution_count": 5,
     "metadata": {},
     "output_type": "execute_result"
    }
   ],
   "source": [
    "concrete_data.isnull().sum()"
   ]
  },
  {
   "cell_type": "markdown",
   "id": "87a063b7-754d-4b80-9538-645707472e37",
   "metadata": {},
   "source": [
    "The data looks very clean and is ready to be used to build our model.\n"
   ]
  },
  {
   "cell_type": "markdown",
   "id": "3bbb6b13-e864-4a3b-9dae-18cbba7e4d9d",
   "metadata": {},
   "source": [
    "#### Split data into predictors and target\n"
   ]
  },
  {
   "cell_type": "markdown",
   "id": "5dbafff3-897a-4ee5-8989-fb2e03488920",
   "metadata": {},
   "source": [
    "The target variable in this problem is the concrete sample strength. Therefore, our predictors will be all the other columns.\n"
   ]
  },
  {
   "cell_type": "code",
   "execution_count": 6,
   "id": "3afc0b10-21bc-4a23-a2b1-3845f6f31ad4",
   "metadata": {
    "tags": []
   },
   "outputs": [],
   "source": [
    "concrete_data_columns = concrete_data.columns\n",
    "\n",
    "predictors = concrete_data[concrete_data_columns[concrete_data_columns != 'Strength']] # all columns except Strength\n",
    "target = concrete_data['Strength'] # Strength column"
   ]
  },
  {
   "cell_type": "markdown",
   "id": "2324322f-f3e5-44f5-b7f6-28fb5dc16848",
   "metadata": {},
   "source": [
    "<a id=\"item2\"></a>\n"
   ]
  },
  {
   "cell_type": "markdown",
   "id": "eff97b14-a2f0-4e3d-810a-e1722b854300",
   "metadata": {},
   "source": [
    "Let's do a quick sanity check of the predictors and the target dataframes.\n"
   ]
  },
  {
   "cell_type": "code",
   "execution_count": 7,
   "id": "966535cf-a890-4300-87de-659363fcedb4",
   "metadata": {
    "tags": []
   },
   "outputs": [
    {
     "data": {
      "text/html": [
       "<div>\n",
       "<style scoped>\n",
       "    .dataframe tbody tr th:only-of-type {\n",
       "        vertical-align: middle;\n",
       "    }\n",
       "\n",
       "    .dataframe tbody tr th {\n",
       "        vertical-align: top;\n",
       "    }\n",
       "\n",
       "    .dataframe thead th {\n",
       "        text-align: right;\n",
       "    }\n",
       "</style>\n",
       "<table border=\"1\" class=\"dataframe\">\n",
       "  <thead>\n",
       "    <tr style=\"text-align: right;\">\n",
       "      <th></th>\n",
       "      <th>Cement</th>\n",
       "      <th>Blast Furnace Slag</th>\n",
       "      <th>Fly Ash</th>\n",
       "      <th>Water</th>\n",
       "      <th>Superplasticizer</th>\n",
       "      <th>Coarse Aggregate</th>\n",
       "      <th>Fine Aggregate</th>\n",
       "      <th>Age</th>\n",
       "    </tr>\n",
       "  </thead>\n",
       "  <tbody>\n",
       "    <tr>\n",
       "      <th>0</th>\n",
       "      <td>540.0</td>\n",
       "      <td>0.0</td>\n",
       "      <td>0.0</td>\n",
       "      <td>162.0</td>\n",
       "      <td>2.5</td>\n",
       "      <td>1040.0</td>\n",
       "      <td>676.0</td>\n",
       "      <td>28</td>\n",
       "    </tr>\n",
       "    <tr>\n",
       "      <th>1</th>\n",
       "      <td>540.0</td>\n",
       "      <td>0.0</td>\n",
       "      <td>0.0</td>\n",
       "      <td>162.0</td>\n",
       "      <td>2.5</td>\n",
       "      <td>1055.0</td>\n",
       "      <td>676.0</td>\n",
       "      <td>28</td>\n",
       "    </tr>\n",
       "    <tr>\n",
       "      <th>2</th>\n",
       "      <td>332.5</td>\n",
       "      <td>142.5</td>\n",
       "      <td>0.0</td>\n",
       "      <td>228.0</td>\n",
       "      <td>0.0</td>\n",
       "      <td>932.0</td>\n",
       "      <td>594.0</td>\n",
       "      <td>270</td>\n",
       "    </tr>\n",
       "    <tr>\n",
       "      <th>3</th>\n",
       "      <td>332.5</td>\n",
       "      <td>142.5</td>\n",
       "      <td>0.0</td>\n",
       "      <td>228.0</td>\n",
       "      <td>0.0</td>\n",
       "      <td>932.0</td>\n",
       "      <td>594.0</td>\n",
       "      <td>365</td>\n",
       "    </tr>\n",
       "    <tr>\n",
       "      <th>4</th>\n",
       "      <td>198.6</td>\n",
       "      <td>132.4</td>\n",
       "      <td>0.0</td>\n",
       "      <td>192.0</td>\n",
       "      <td>0.0</td>\n",
       "      <td>978.4</td>\n",
       "      <td>825.5</td>\n",
       "      <td>360</td>\n",
       "    </tr>\n",
       "  </tbody>\n",
       "</table>\n",
       "</div>"
      ],
      "text/plain": [
       "   Cement  Blast Furnace Slag  Fly Ash  Water  Superplasticizer  \\\n",
       "0   540.0                 0.0      0.0  162.0               2.5   \n",
       "1   540.0                 0.0      0.0  162.0               2.5   \n",
       "2   332.5               142.5      0.0  228.0               0.0   \n",
       "3   332.5               142.5      0.0  228.0               0.0   \n",
       "4   198.6               132.4      0.0  192.0               0.0   \n",
       "\n",
       "   Coarse Aggregate  Fine Aggregate  Age  \n",
       "0            1040.0           676.0   28  \n",
       "1            1055.0           676.0   28  \n",
       "2             932.0           594.0  270  \n",
       "3             932.0           594.0  365  \n",
       "4             978.4           825.5  360  "
      ]
     },
     "execution_count": 7,
     "metadata": {},
     "output_type": "execute_result"
    }
   ],
   "source": [
    "predictors.head()"
   ]
  },
  {
   "cell_type": "code",
   "execution_count": 8,
   "id": "624f8214-ac3d-4e39-b68c-71eabcd1b17f",
   "metadata": {
    "tags": []
   },
   "outputs": [
    {
     "data": {
      "text/plain": [
       "0    79.99\n",
       "1    61.89\n",
       "2    40.27\n",
       "3    41.05\n",
       "4    44.30\n",
       "Name: Strength, dtype: float64"
      ]
     },
     "execution_count": 8,
     "metadata": {},
     "output_type": "execute_result"
    }
   ],
   "source": [
    "target.head()"
   ]
  },
  {
   "cell_type": "markdown",
   "id": "d01dbcce-ad63-440b-8fc6-7db0f18038d7",
   "metadata": {},
   "source": [
    "Finally, the last step is to normalize the data by substracting the mean and dividing by the standard deviation.\n"
   ]
  },
  {
   "cell_type": "code",
   "execution_count": 9,
   "id": "1159ea02-afe5-472c-89f4-098455935947",
   "metadata": {
    "tags": []
   },
   "outputs": [
    {
     "data": {
      "text/html": [
       "<div>\n",
       "<style scoped>\n",
       "    .dataframe tbody tr th:only-of-type {\n",
       "        vertical-align: middle;\n",
       "    }\n",
       "\n",
       "    .dataframe tbody tr th {\n",
       "        vertical-align: top;\n",
       "    }\n",
       "\n",
       "    .dataframe thead th {\n",
       "        text-align: right;\n",
       "    }\n",
       "</style>\n",
       "<table border=\"1\" class=\"dataframe\">\n",
       "  <thead>\n",
       "    <tr style=\"text-align: right;\">\n",
       "      <th></th>\n",
       "      <th>Cement</th>\n",
       "      <th>Blast Furnace Slag</th>\n",
       "      <th>Fly Ash</th>\n",
       "      <th>Water</th>\n",
       "      <th>Superplasticizer</th>\n",
       "      <th>Coarse Aggregate</th>\n",
       "      <th>Fine Aggregate</th>\n",
       "      <th>Age</th>\n",
       "    </tr>\n",
       "  </thead>\n",
       "  <tbody>\n",
       "    <tr>\n",
       "      <th>0</th>\n",
       "      <td>2.476712</td>\n",
       "      <td>-0.856472</td>\n",
       "      <td>-0.846733</td>\n",
       "      <td>-0.916319</td>\n",
       "      <td>-0.620147</td>\n",
       "      <td>0.862735</td>\n",
       "      <td>-1.217079</td>\n",
       "      <td>-0.279597</td>\n",
       "    </tr>\n",
       "    <tr>\n",
       "      <th>1</th>\n",
       "      <td>2.476712</td>\n",
       "      <td>-0.856472</td>\n",
       "      <td>-0.846733</td>\n",
       "      <td>-0.916319</td>\n",
       "      <td>-0.620147</td>\n",
       "      <td>1.055651</td>\n",
       "      <td>-1.217079</td>\n",
       "      <td>-0.279597</td>\n",
       "    </tr>\n",
       "    <tr>\n",
       "      <th>2</th>\n",
       "      <td>0.491187</td>\n",
       "      <td>0.795140</td>\n",
       "      <td>-0.846733</td>\n",
       "      <td>2.174405</td>\n",
       "      <td>-1.038638</td>\n",
       "      <td>-0.526262</td>\n",
       "      <td>-2.239829</td>\n",
       "      <td>3.551340</td>\n",
       "    </tr>\n",
       "    <tr>\n",
       "      <th>3</th>\n",
       "      <td>0.491187</td>\n",
       "      <td>0.795140</td>\n",
       "      <td>-0.846733</td>\n",
       "      <td>2.174405</td>\n",
       "      <td>-1.038638</td>\n",
       "      <td>-0.526262</td>\n",
       "      <td>-2.239829</td>\n",
       "      <td>5.055221</td>\n",
       "    </tr>\n",
       "    <tr>\n",
       "      <th>4</th>\n",
       "      <td>-0.790075</td>\n",
       "      <td>0.678079</td>\n",
       "      <td>-0.846733</td>\n",
       "      <td>0.488555</td>\n",
       "      <td>-1.038638</td>\n",
       "      <td>0.070492</td>\n",
       "      <td>0.647569</td>\n",
       "      <td>4.976069</td>\n",
       "    </tr>\n",
       "  </tbody>\n",
       "</table>\n",
       "</div>"
      ],
      "text/plain": [
       "     Cement  Blast Furnace Slag   Fly Ash     Water  Superplasticizer  \\\n",
       "0  2.476712           -0.856472 -0.846733 -0.916319         -0.620147   \n",
       "1  2.476712           -0.856472 -0.846733 -0.916319         -0.620147   \n",
       "2  0.491187            0.795140 -0.846733  2.174405         -1.038638   \n",
       "3  0.491187            0.795140 -0.846733  2.174405         -1.038638   \n",
       "4 -0.790075            0.678079 -0.846733  0.488555         -1.038638   \n",
       "\n",
       "   Coarse Aggregate  Fine Aggregate       Age  \n",
       "0          0.862735       -1.217079 -0.279597  \n",
       "1          1.055651       -1.217079 -0.279597  \n",
       "2         -0.526262       -2.239829  3.551340  \n",
       "3         -0.526262       -2.239829  5.055221  \n",
       "4          0.070492        0.647569  4.976069  "
      ]
     },
     "execution_count": 9,
     "metadata": {},
     "output_type": "execute_result"
    }
   ],
   "source": [
    "predictors_norm = (predictors - predictors.mean()) / predictors.std()\n",
    "predictors_norm.head()"
   ]
  },
  {
   "cell_type": "markdown",
   "id": "53947e09-7f49-4c68-a42a-c2a1d3607b2d",
   "metadata": {},
   "source": [
    "Let's save the number of predictors to *n_cols* since we will need this number when building our network.\n"
   ]
  },
  {
   "cell_type": "code",
   "execution_count": 10,
   "id": "fa7a4f76-940f-495f-ac74-ea4e180273b6",
   "metadata": {
    "tags": []
   },
   "outputs": [],
   "source": [
    "n_cols = predictors_norm.shape[1] # number of predictors"
   ]
  },
  {
   "cell_type": "markdown",
   "id": "b736a89f-fb58-4610-9282-26047de1e740",
   "metadata": {},
   "source": [
    "<a id=\"item1\"></a>\n"
   ]
  },
  {
   "cell_type": "markdown",
   "id": "3196b707-83c7-4aff-adf3-f56a86de12d5",
   "metadata": {},
   "source": [
    "## Import Keras\n"
   ]
  },
  {
   "cell_type": "markdown",
   "id": "82a6be77-8207-4c69-80cf-068b3a571a5f",
   "metadata": {},
   "source": [
    "Recall from the videos that Keras normally runs on top of a low-level library such as TensorFlow. This means that to be able to use the Keras library, you will have to install TensorFlow first and when you import the Keras library, it will be explicitly displayed what backend was used to install the Keras library. In CC Labs, we used TensorFlow as the backend to install Keras, so it should clearly print that when we import Keras.\n"
   ]
  },
  {
   "cell_type": "markdown",
   "id": "f658eaef-2ef5-4a24-8c12-02d30f2a6108",
   "metadata": {},
   "source": [
    "#### Let's go ahead and import the Keras library\n"
   ]
  },
  {
   "cell_type": "code",
   "execution_count": 11,
   "id": "cefc392b-b7c7-4cf3-b39b-2ee6d3df1438",
   "metadata": {
    "tags": []
   },
   "outputs": [
    {
     "name": "stderr",
     "output_type": "stream",
     "text": [
      "Using TensorFlow backend.\n",
      "/home/jupyterlab/conda/envs/python/lib/python3.7/site-packages/tensorflow/python/framework/dtypes.py:516: FutureWarning: Passing (type, 1) or '1type' as a synonym of type is deprecated; in a future version of numpy, it will be understood as (type, (1,)) / '(1,)type'.\n",
      "  _np_qint8 = np.dtype([(\"qint8\", np.int8, 1)])\n",
      "/home/jupyterlab/conda/envs/python/lib/python3.7/site-packages/tensorflow/python/framework/dtypes.py:517: FutureWarning: Passing (type, 1) or '1type' as a synonym of type is deprecated; in a future version of numpy, it will be understood as (type, (1,)) / '(1,)type'.\n",
      "  _np_quint8 = np.dtype([(\"quint8\", np.uint8, 1)])\n",
      "/home/jupyterlab/conda/envs/python/lib/python3.7/site-packages/tensorflow/python/framework/dtypes.py:518: FutureWarning: Passing (type, 1) or '1type' as a synonym of type is deprecated; in a future version of numpy, it will be understood as (type, (1,)) / '(1,)type'.\n",
      "  _np_qint16 = np.dtype([(\"qint16\", np.int16, 1)])\n",
      "/home/jupyterlab/conda/envs/python/lib/python3.7/site-packages/tensorflow/python/framework/dtypes.py:519: FutureWarning: Passing (type, 1) or '1type' as a synonym of type is deprecated; in a future version of numpy, it will be understood as (type, (1,)) / '(1,)type'.\n",
      "  _np_quint16 = np.dtype([(\"quint16\", np.uint16, 1)])\n",
      "/home/jupyterlab/conda/envs/python/lib/python3.7/site-packages/tensorflow/python/framework/dtypes.py:520: FutureWarning: Passing (type, 1) or '1type' as a synonym of type is deprecated; in a future version of numpy, it will be understood as (type, (1,)) / '(1,)type'.\n",
      "  _np_qint32 = np.dtype([(\"qint32\", np.int32, 1)])\n",
      "/home/jupyterlab/conda/envs/python/lib/python3.7/site-packages/tensorflow/python/framework/dtypes.py:525: FutureWarning: Passing (type, 1) or '1type' as a synonym of type is deprecated; in a future version of numpy, it will be understood as (type, (1,)) / '(1,)type'.\n",
      "  np_resource = np.dtype([(\"resource\", np.ubyte, 1)])\n",
      "/home/jupyterlab/conda/envs/python/lib/python3.7/site-packages/tensorboard/compat/tensorflow_stub/dtypes.py:541: FutureWarning: Passing (type, 1) or '1type' as a synonym of type is deprecated; in a future version of numpy, it will be understood as (type, (1,)) / '(1,)type'.\n",
      "  _np_qint8 = np.dtype([(\"qint8\", np.int8, 1)])\n",
      "/home/jupyterlab/conda/envs/python/lib/python3.7/site-packages/tensorboard/compat/tensorflow_stub/dtypes.py:542: FutureWarning: Passing (type, 1) or '1type' as a synonym of type is deprecated; in a future version of numpy, it will be understood as (type, (1,)) / '(1,)type'.\n",
      "  _np_quint8 = np.dtype([(\"quint8\", np.uint8, 1)])\n",
      "/home/jupyterlab/conda/envs/python/lib/python3.7/site-packages/tensorboard/compat/tensorflow_stub/dtypes.py:543: FutureWarning: Passing (type, 1) or '1type' as a synonym of type is deprecated; in a future version of numpy, it will be understood as (type, (1,)) / '(1,)type'.\n",
      "  _np_qint16 = np.dtype([(\"qint16\", np.int16, 1)])\n",
      "/home/jupyterlab/conda/envs/python/lib/python3.7/site-packages/tensorboard/compat/tensorflow_stub/dtypes.py:544: FutureWarning: Passing (type, 1) or '1type' as a synonym of type is deprecated; in a future version of numpy, it will be understood as (type, (1,)) / '(1,)type'.\n",
      "  _np_quint16 = np.dtype([(\"quint16\", np.uint16, 1)])\n",
      "/home/jupyterlab/conda/envs/python/lib/python3.7/site-packages/tensorboard/compat/tensorflow_stub/dtypes.py:545: FutureWarning: Passing (type, 1) or '1type' as a synonym of type is deprecated; in a future version of numpy, it will be understood as (type, (1,)) / '(1,)type'.\n",
      "  _np_qint32 = np.dtype([(\"qint32\", np.int32, 1)])\n",
      "/home/jupyterlab/conda/envs/python/lib/python3.7/site-packages/tensorboard/compat/tensorflow_stub/dtypes.py:550: FutureWarning: Passing (type, 1) or '1type' as a synonym of type is deprecated; in a future version of numpy, it will be understood as (type, (1,)) / '(1,)type'.\n",
      "  np_resource = np.dtype([(\"resource\", np.ubyte, 1)])\n"
     ]
    }
   ],
   "source": [
    "import keras"
   ]
  },
  {
   "cell_type": "markdown",
   "id": "a67970aa-f90a-4e4d-adf2-639ee3386b73",
   "metadata": {},
   "source": [
    "As you can see, the TensorFlow backend was used to install the Keras library.\n"
   ]
  },
  {
   "cell_type": "markdown",
   "id": "48853e27-c5b5-4c0b-a4c5-9e552eb29f7b",
   "metadata": {},
   "source": [
    "Let's import the rest of the packages from the Keras library that we will need to build our regressoin model.\n"
   ]
  },
  {
   "cell_type": "code",
   "execution_count": 12,
   "id": "6c832c10-82ba-4ef7-af54-9dae721eb04e",
   "metadata": {
    "tags": []
   },
   "outputs": [],
   "source": [
    "from keras.models import Sequential\n",
    "from keras.layers import Dense"
   ]
  },
  {
   "cell_type": "markdown",
   "id": "7daed4e0-3cb0-4c52-8bea-bc286deabee8",
   "metadata": {},
   "source": [
    "<a id='item33'></a>\n"
   ]
  },
  {
   "cell_type": "markdown",
   "id": "f06d6c4a-432b-4563-8325-aeb5749f4374",
   "metadata": {},
   "source": [
    "## Part A: Build a Neural Network\n"
   ]
  },
  {
   "cell_type": "markdown",
   "id": "6ea7b985-0cb6-4b3e-9a39-b3cc6c88745a",
   "metadata": {},
   "source": [
    "Let's define a function that defines our regression model for us so that we can conveniently call it to create our model.\n"
   ]
  },
  {
   "cell_type": "code",
   "execution_count": 13,
   "id": "11237133-1763-46ba-88d0-41307ddb26b2",
   "metadata": {
    "tags": []
   },
   "outputs": [],
   "source": [
    "# define regression model\n",
    "def regression_modelA():\n",
    "    # create model\n",
    "    modelA = Sequential()\n",
    "    modelA.add(Dense(10, activation='relu', input_shape=(n_cols,)))\n",
    "    modelA.add(Dense(1))\n",
    "    \n",
    "    # compile model\n",
    "    modelA.compile(optimizer='adam', loss='mean_squared_error')\n",
    "    return modelA"
   ]
  },
  {
   "cell_type": "markdown",
   "id": "82846b22-0383-44e2-8ae9-e015dbbb9f8b",
   "metadata": {},
   "source": [
    "The above function create a model that has two hidden layers, each of 50 hidden units.\n"
   ]
  },
  {
   "cell_type": "markdown",
   "id": "92c1eb17-8ea2-4f50-8a9c-f9ffc52a9b6c",
   "metadata": {},
   "source": [
    "<a id=\"item4\"></a>\n"
   ]
  },
  {
   "cell_type": "markdown",
   "id": "bebf6e67-61cb-4da4-b50b-78e7fc160e94",
   "metadata": {},
   "source": [
    "<a id='item34'></a>\n"
   ]
  },
  {
   "cell_type": "markdown",
   "id": "706cf7ff-f678-433c-9895-24c8621a220b",
   "metadata": {},
   "source": [
    "## Train and Test the Network\n"
   ]
  },
  {
   "cell_type": "markdown",
   "id": "540ff28f-8533-46a8-b9aa-5a347fcb7387",
   "metadata": {},
   "source": [
    "Let's call the function now to create our model.\n"
   ]
  },
  {
   "cell_type": "code",
   "execution_count": 14,
   "id": "865460d4-3162-48cb-a6e8-950a7712d379",
   "metadata": {
    "tags": []
   },
   "outputs": [
    {
     "name": "stdout",
     "output_type": "stream",
     "text": [
      "WARNING:tensorflow:From /home/jupyterlab/conda/envs/python/lib/python3.7/site-packages/keras/backend/tensorflow_backend.py:68: The name tf.get_default_graph is deprecated. Please use tf.compat.v1.get_default_graph instead.\n",
      "\n",
      "WARNING:tensorflow:From /home/jupyterlab/conda/envs/python/lib/python3.7/site-packages/keras/backend/tensorflow_backend.py:508: The name tf.placeholder is deprecated. Please use tf.compat.v1.placeholder instead.\n",
      "\n",
      "WARNING:tensorflow:From /home/jupyterlab/conda/envs/python/lib/python3.7/site-packages/keras/backend/tensorflow_backend.py:3837: The name tf.random_uniform is deprecated. Please use tf.random.uniform instead.\n",
      "\n",
      "WARNING:tensorflow:From /home/jupyterlab/conda/envs/python/lib/python3.7/site-packages/keras/optimizers.py:757: The name tf.train.Optimizer is deprecated. Please use tf.compat.v1.train.Optimizer instead.\n",
      "\n"
     ]
    }
   ],
   "source": [
    "# build the model\n",
    "modelA = regression_modelA()"
   ]
  },
  {
   "cell_type": "markdown",
   "id": "dcf51820-5de6-428f-a3a2-69d1e5cc612e",
   "metadata": {},
   "source": [
    "Next, we will train and test the model at the same time using the *fit* method. We will leave out 30% of the data for validation and we will train the model for 50 epochs.\n"
   ]
  },
  {
   "cell_type": "code",
   "execution_count": 24,
   "id": "a3df5f60-a61b-478b-8c83-68ee9eb286b8",
   "metadata": {
    "tags": []
   },
   "outputs": [
    {
     "name": "stdout",
     "output_type": "stream",
     "text": [
      "WARNING:tensorflow:From /home/jupyterlab/conda/envs/python/lib/python3.7/site-packages/keras/backend/tensorflow_backend.py:977: The name tf.assign_add is deprecated. Please use tf.compat.v1.assign_add instead.\n",
      "\n",
      "WARNING:tensorflow:From /home/jupyterlab/conda/envs/python/lib/python3.7/site-packages/keras/backend/tensorflow_backend.py:964: The name tf.assign is deprecated. Please use tf.compat.v1.assign instead.\n",
      "\n"
     ]
    },
    {
     "name": "stderr",
     "output_type": "stream",
     "text": [
      "2023-07-29 01:21:42.206165: I tensorflow/core/platform/cpu_feature_guard.cc:142] Your CPU supports instructions that this TensorFlow binary was not compiled to use: SSE4.1 SSE4.2 AVX AVX2 AVX512F FMA\n",
      "2023-07-29 01:21:42.211954: I tensorflow/core/platform/profile_utils/cpu_utils.cc:94] CPU Frequency: 2394310000 Hz\n",
      "2023-07-29 01:21:42.212625: I tensorflow/compiler/xla/service/service.cc:168] XLA service 0x556bb7acf9f0 executing computations on platform Host. Devices:\n",
      "2023-07-29 01:21:42.212678: I tensorflow/compiler/xla/service/service.cc:175]   StreamExecutor device (0): <undefined>, <undefined>\n",
      "2023-07-29 01:21:42.352267: W tensorflow/compiler/jit/mark_for_compilation_pass.cc:1412] (One-time warning): Not using XLA:CPU for cluster because envvar TF_XLA_FLAGS=--tf_xla_cpu_global_jit was not set.  If you want XLA:CPU, either set that envvar, or use experimental_jit_scope to enable XLA:CPU.  To confirm that XLA is active, pass --vmodule=xla_compilation_cache=1 (as a proper command-line flag, not via TF_XLA_FLAGS) or set the envvar XLA_FLAGS=--xla_hlo_profile.\n"
     ]
    },
    {
     "name": "stdout",
     "output_type": "stream",
     "text": [
      "Epoch #1: mean_squared_error 106.67502319928512\n",
      "Epoch #2: mean_squared_error 74.06504462529155\n",
      "Epoch #3: mean_squared_error 68.45697460977004\n",
      "Epoch #4: mean_squared_error 78.45342405251314\n",
      "Epoch #5: mean_squared_error 59.90618280453975\n",
      "Epoch #6: mean_squared_error 74.07556199255885\n",
      "Epoch #7: mean_squared_error 55.091871057899255\n",
      "Epoch #8: mean_squared_error 56.253151779421714\n",
      "Epoch #9: mean_squared_error 55.467234972611216\n",
      "Epoch #10: mean_squared_error 48.437109962636214\n",
      "Epoch #11: mean_squared_error 50.20719480051578\n",
      "Epoch #12: mean_squared_error 54.04427314190417\n",
      "Epoch #13: mean_squared_error 48.977801400095125\n",
      "Epoch #14: mean_squared_error 52.02880165569219\n",
      "Epoch #15: mean_squared_error 45.6756617968908\n",
      "Epoch #16: mean_squared_error 41.871681509666075\n",
      "Epoch #17: mean_squared_error 47.770798272685326\n",
      "Epoch #18: mean_squared_error 54.69599404689949\n",
      "Epoch #19: mean_squared_error 52.01846677662871\n",
      "Epoch #20: mean_squared_error 42.887261153039034\n",
      "Epoch #21: mean_squared_error 45.6787557385886\n",
      "Epoch #22: mean_squared_error 44.27397726114514\n",
      "Epoch #23: mean_squared_error 51.28141130367143\n",
      "Epoch #24: mean_squared_error 50.61789965089471\n",
      "Epoch #25: mean_squared_error 45.62078934579991\n",
      "Epoch #26: mean_squared_error 57.694329394491746\n",
      "Epoch #27: mean_squared_error 51.26534876159865\n",
      "Epoch #28: mean_squared_error 49.392768119145366\n",
      "Epoch #29: mean_squared_error 46.91090248009148\n",
      "Epoch #30: mean_squared_error 53.34642176334912\n",
      "Epoch #31: mean_squared_error 45.16037814439693\n",
      "Epoch #32: mean_squared_error 50.28766081479761\n",
      "Epoch #33: mean_squared_error 55.501790265820944\n",
      "Epoch #34: mean_squared_error 49.31397370767439\n",
      "Epoch #35: mean_squared_error 55.23533783452796\n",
      "Epoch #36: mean_squared_error 43.33769076696106\n",
      "Epoch #37: mean_squared_error 42.487355352605434\n",
      "Epoch #38: mean_squared_error 51.65243016709016\n",
      "Epoch #39: mean_squared_error 59.82040065777726\n",
      "Epoch #40: mean_squared_error 51.983910977261736\n",
      "Epoch #41: mean_squared_error 41.6513944212287\n",
      "Epoch #42: mean_squared_error 48.39970543623742\n",
      "Epoch #43: mean_squared_error 48.826878359402656\n",
      "Epoch #44: mean_squared_error 53.87820827150808\n",
      "Epoch #45: mean_squared_error 50.19298939874643\n",
      "Epoch #46: mean_squared_error 46.71005379883603\n",
      "Epoch #47: mean_squared_error 39.22256880825006\n",
      "Epoch #48: mean_squared_error 50.15376982951241\n",
      "Epoch #49: mean_squared_error 40.75031560755856\n",
      "Epoch #50: mean_squared_error 49.821714407417765\n"
     ]
    }
   ],
   "source": [
    "from sklearn.model_selection import train_test_split\n",
    "A_mean_squared_errors = []\n",
    "for epoch in range(50):\n",
    "    X_train, X_test, y_train, y_test = train_test_split(predictors, target, test_size=0.3)\n",
    "    res = modelA.fit(X_train, y_train, epochs=50, verbose=0, validation_data=(X_test, y_test))\n",
    "    mean_squared_error = res.history['val_loss'][-1]\n",
    "    A_mean_squared_errors.append(mean_squared_error)\n",
    "    print('Epoch #{}: mean_squared_error {}'.format(epoch+1, mean_squared_error))"
   ]
  },
  {
   "cell_type": "code",
   "execution_count": 27,
   "id": "b02a9172-a35e-41a1-9800-cf8c226403b1",
   "metadata": {
    "tags": []
   },
   "outputs": [
    {
     "name": "stdout",
     "output_type": "stream",
     "text": [
      "The mean of the mean squared errors: 52.75061288913863\n",
      "The standard deviation of the mean squared errors: 11.196211206377388\n"
     ]
    }
   ],
   "source": [
    "mean_value = np.mean(A_mean_squared_errors)\n",
    "std_value = np.std(A_mean_squared_errors)\n",
    "\n",
    "print(f'The mean of the mean squared errors: {mean_value}')\n",
    "print(f'The standard deviation of the mean squared errors: {std_value}')"
   ]
  },
  {
   "cell_type": "markdown",
   "id": "7bc5ca44-320b-4028-85ef-aa8cd2627c56",
   "metadata": {},
   "source": [
    "## Part B: Normalize the Data"
   ]
  },
  {
   "cell_type": "markdown",
   "id": "32cfe398-706a-41c5-9649-64298975b416",
   "metadata": {},
   "source": [
    "Repeat Part A but use a normalized version of the data. Recall that one way to normalize the data is by subtracting the mean from the individual predictors and dividing by the standard deviation.\n",
    "\n",
    "How does the mean of the mean squared errors compare to that from Step A?\n",
    "\n",
    "Normalize the data by substracting the mean and dividing by the standard deviation:"
   ]
  },
  {
   "cell_type": "code",
   "execution_count": 28,
   "id": "cb53b64f-0747-4984-b685-bce7d5e5e777",
   "metadata": {
    "tags": []
   },
   "outputs": [
    {
     "data": {
      "text/html": [
       "<div>\n",
       "<style scoped>\n",
       "    .dataframe tbody tr th:only-of-type {\n",
       "        vertical-align: middle;\n",
       "    }\n",
       "\n",
       "    .dataframe tbody tr th {\n",
       "        vertical-align: top;\n",
       "    }\n",
       "\n",
       "    .dataframe thead th {\n",
       "        text-align: right;\n",
       "    }\n",
       "</style>\n",
       "<table border=\"1\" class=\"dataframe\">\n",
       "  <thead>\n",
       "    <tr style=\"text-align: right;\">\n",
       "      <th></th>\n",
       "      <th>Cement</th>\n",
       "      <th>Blast Furnace Slag</th>\n",
       "      <th>Fly Ash</th>\n",
       "      <th>Water</th>\n",
       "      <th>Superplasticizer</th>\n",
       "      <th>Coarse Aggregate</th>\n",
       "      <th>Fine Aggregate</th>\n",
       "      <th>Age</th>\n",
       "    </tr>\n",
       "  </thead>\n",
       "  <tbody>\n",
       "    <tr>\n",
       "      <th>0</th>\n",
       "      <td>2.476712</td>\n",
       "      <td>-0.856472</td>\n",
       "      <td>-0.846733</td>\n",
       "      <td>-0.916319</td>\n",
       "      <td>-0.620147</td>\n",
       "      <td>0.862735</td>\n",
       "      <td>-1.217079</td>\n",
       "      <td>-0.279597</td>\n",
       "    </tr>\n",
       "    <tr>\n",
       "      <th>1</th>\n",
       "      <td>2.476712</td>\n",
       "      <td>-0.856472</td>\n",
       "      <td>-0.846733</td>\n",
       "      <td>-0.916319</td>\n",
       "      <td>-0.620147</td>\n",
       "      <td>1.055651</td>\n",
       "      <td>-1.217079</td>\n",
       "      <td>-0.279597</td>\n",
       "    </tr>\n",
       "    <tr>\n",
       "      <th>2</th>\n",
       "      <td>0.491187</td>\n",
       "      <td>0.795140</td>\n",
       "      <td>-0.846733</td>\n",
       "      <td>2.174405</td>\n",
       "      <td>-1.038638</td>\n",
       "      <td>-0.526262</td>\n",
       "      <td>-2.239829</td>\n",
       "      <td>3.551340</td>\n",
       "    </tr>\n",
       "    <tr>\n",
       "      <th>3</th>\n",
       "      <td>0.491187</td>\n",
       "      <td>0.795140</td>\n",
       "      <td>-0.846733</td>\n",
       "      <td>2.174405</td>\n",
       "      <td>-1.038638</td>\n",
       "      <td>-0.526262</td>\n",
       "      <td>-2.239829</td>\n",
       "      <td>5.055221</td>\n",
       "    </tr>\n",
       "    <tr>\n",
       "      <th>4</th>\n",
       "      <td>-0.790075</td>\n",
       "      <td>0.678079</td>\n",
       "      <td>-0.846733</td>\n",
       "      <td>0.488555</td>\n",
       "      <td>-1.038638</td>\n",
       "      <td>0.070492</td>\n",
       "      <td>0.647569</td>\n",
       "      <td>4.976069</td>\n",
       "    </tr>\n",
       "    <tr>\n",
       "      <th>...</th>\n",
       "      <td>...</td>\n",
       "      <td>...</td>\n",
       "      <td>...</td>\n",
       "      <td>...</td>\n",
       "      <td>...</td>\n",
       "      <td>...</td>\n",
       "      <td>...</td>\n",
       "      <td>...</td>\n",
       "    </tr>\n",
       "    <tr>\n",
       "      <th>1025</th>\n",
       "      <td>-0.045623</td>\n",
       "      <td>0.487998</td>\n",
       "      <td>0.564271</td>\n",
       "      <td>-0.092126</td>\n",
       "      <td>0.451190</td>\n",
       "      <td>-1.322363</td>\n",
       "      <td>-0.065861</td>\n",
       "      <td>-0.279597</td>\n",
       "    </tr>\n",
       "    <tr>\n",
       "      <th>1026</th>\n",
       "      <td>0.392628</td>\n",
       "      <td>-0.856472</td>\n",
       "      <td>0.959602</td>\n",
       "      <td>0.675872</td>\n",
       "      <td>0.702285</td>\n",
       "      <td>-1.993711</td>\n",
       "      <td>0.496651</td>\n",
       "      <td>-0.279597</td>\n",
       "    </tr>\n",
       "    <tr>\n",
       "      <th>1027</th>\n",
       "      <td>-1.269472</td>\n",
       "      <td>0.759210</td>\n",
       "      <td>0.850222</td>\n",
       "      <td>0.521336</td>\n",
       "      <td>-0.017520</td>\n",
       "      <td>-1.035561</td>\n",
       "      <td>0.080068</td>\n",
       "      <td>-0.279597</td>\n",
       "    </tr>\n",
       "    <tr>\n",
       "      <th>1028</th>\n",
       "      <td>-1.168042</td>\n",
       "      <td>1.307430</td>\n",
       "      <td>-0.846733</td>\n",
       "      <td>-0.279443</td>\n",
       "      <td>0.852942</td>\n",
       "      <td>0.214537</td>\n",
       "      <td>0.191074</td>\n",
       "      <td>-0.279597</td>\n",
       "    </tr>\n",
       "    <tr>\n",
       "      <th>1029</th>\n",
       "      <td>-0.193939</td>\n",
       "      <td>0.308349</td>\n",
       "      <td>0.376762</td>\n",
       "      <td>0.891286</td>\n",
       "      <td>0.400971</td>\n",
       "      <td>-1.394385</td>\n",
       "      <td>-0.150675</td>\n",
       "      <td>-0.279597</td>\n",
       "    </tr>\n",
       "  </tbody>\n",
       "</table>\n",
       "<p>1030 rows × 8 columns</p>\n",
       "</div>"
      ],
      "text/plain": [
       "        Cement  Blast Furnace Slag   Fly Ash     Water  Superplasticizer  \\\n",
       "0     2.476712           -0.856472 -0.846733 -0.916319         -0.620147   \n",
       "1     2.476712           -0.856472 -0.846733 -0.916319         -0.620147   \n",
       "2     0.491187            0.795140 -0.846733  2.174405         -1.038638   \n",
       "3     0.491187            0.795140 -0.846733  2.174405         -1.038638   \n",
       "4    -0.790075            0.678079 -0.846733  0.488555         -1.038638   \n",
       "...        ...                 ...       ...       ...               ...   \n",
       "1025 -0.045623            0.487998  0.564271 -0.092126          0.451190   \n",
       "1026  0.392628           -0.856472  0.959602  0.675872          0.702285   \n",
       "1027 -1.269472            0.759210  0.850222  0.521336         -0.017520   \n",
       "1028 -1.168042            1.307430 -0.846733 -0.279443          0.852942   \n",
       "1029 -0.193939            0.308349  0.376762  0.891286          0.400971   \n",
       "\n",
       "      Coarse Aggregate  Fine Aggregate       Age  \n",
       "0             0.862735       -1.217079 -0.279597  \n",
       "1             1.055651       -1.217079 -0.279597  \n",
       "2            -0.526262       -2.239829  3.551340  \n",
       "3            -0.526262       -2.239829  5.055221  \n",
       "4             0.070492        0.647569  4.976069  \n",
       "...                ...             ...       ...  \n",
       "1025         -1.322363       -0.065861 -0.279597  \n",
       "1026         -1.993711        0.496651 -0.279597  \n",
       "1027         -1.035561        0.080068 -0.279597  \n",
       "1028          0.214537        0.191074 -0.279597  \n",
       "1029         -1.394385       -0.150675 -0.279597  \n",
       "\n",
       "[1030 rows x 8 columns]"
      ]
     },
     "execution_count": 28,
     "metadata": {},
     "output_type": "execute_result"
    }
   ],
   "source": [
    "predictors_norm"
   ]
  },
  {
   "cell_type": "code",
   "execution_count": 29,
   "id": "97dcb6b8-74cb-4596-b721-17840811c19e",
   "metadata": {
    "tags": []
   },
   "outputs": [],
   "source": [
    "n_cols = predictors_norm.shape[1]\n",
    "def regression_modelB():\n",
    "    modelB = Sequential()\n",
    "    modelB.add(Dense(10, activation='relu', input_shape=(n_cols,)))\n",
    "    modelB.add(Dense(1))\n",
    "    \n",
    "    modelB.compile(optimizer='adam', loss='mean_squared_error')\n",
    "    return modelB"
   ]
  },
  {
   "cell_type": "code",
   "execution_count": 30,
   "id": "1d95802d-cf17-4ab6-b83e-0addd040123f",
   "metadata": {
    "tags": []
   },
   "outputs": [],
   "source": [
    "modelB = regression_modelB()"
   ]
  },
  {
   "cell_type": "code",
   "execution_count": 31,
   "id": "6a3d572b-57b6-4a17-9ab7-60a221beaea1",
   "metadata": {
    "tags": []
   },
   "outputs": [
    {
     "name": "stdout",
     "output_type": "stream",
     "text": [
      "Epoch #1: mean_squared_error 485.56095140574433\n",
      "Epoch #2: mean_squared_error 153.24887460258014\n",
      "Epoch #3: mean_squared_error 122.52653686128387\n",
      "Epoch #4: mean_squared_error 106.1128368686318\n",
      "Epoch #5: mean_squared_error 74.15961778511121\n",
      "Epoch #6: mean_squared_error 65.33269859980611\n",
      "Epoch #7: mean_squared_error 54.851417467432114\n",
      "Epoch #8: mean_squared_error 41.974890860153245\n",
      "Epoch #9: mean_squared_error 51.271254382087186\n",
      "Epoch #10: mean_squared_error 41.52644313577695\n",
      "Epoch #11: mean_squared_error 43.077328073939846\n",
      "Epoch #12: mean_squared_error 36.286948429342225\n",
      "Epoch #13: mean_squared_error 34.11360663503505\n",
      "Epoch #14: mean_squared_error 30.581960486748457\n",
      "Epoch #15: mean_squared_error 31.564379392704147\n",
      "Epoch #16: mean_squared_error 36.54071673297573\n",
      "Epoch #17: mean_squared_error 37.1490540242118\n",
      "Epoch #18: mean_squared_error 32.60346435497494\n",
      "Epoch #19: mean_squared_error 31.30384952582202\n",
      "Epoch #20: mean_squared_error 37.271214247521456\n",
      "Epoch #21: mean_squared_error 37.78011462757888\n",
      "Epoch #22: mean_squared_error 36.10733019881264\n",
      "Epoch #23: mean_squared_error 36.093429787645064\n",
      "Epoch #24: mean_squared_error 33.12021449314352\n",
      "Epoch #25: mean_squared_error 32.787619704953286\n",
      "Epoch #26: mean_squared_error 36.95040029383786\n",
      "Epoch #27: mean_squared_error 30.533875437616146\n",
      "Epoch #28: mean_squared_error 36.47946731172333\n",
      "Epoch #29: mean_squared_error 34.711038009248504\n",
      "Epoch #30: mean_squared_error 30.151118330970938\n",
      "Epoch #31: mean_squared_error 31.154365860528543\n",
      "Epoch #32: mean_squared_error 32.8843782912566\n",
      "Epoch #33: mean_squared_error 28.696475272811348\n",
      "Epoch #34: mean_squared_error 28.73410766873159\n",
      "Epoch #35: mean_squared_error 31.26111366988\n",
      "Epoch #36: mean_squared_error 29.061705345474785\n",
      "Epoch #37: mean_squared_error 24.696523968841653\n",
      "Epoch #38: mean_squared_error 33.53640304491358\n",
      "Epoch #39: mean_squared_error 30.02123198154289\n",
      "Epoch #40: mean_squared_error 28.548857161142294\n",
      "Epoch #41: mean_squared_error 27.74658712985832\n",
      "Epoch #42: mean_squared_error 30.858148445203465\n",
      "Epoch #43: mean_squared_error 28.506318373201733\n",
      "Epoch #44: mean_squared_error 29.043353367777705\n",
      "Epoch #45: mean_squared_error 30.237981851818493\n",
      "Epoch #46: mean_squared_error 35.97579921487851\n",
      "Epoch #47: mean_squared_error 31.6052955300291\n",
      "Epoch #48: mean_squared_error 28.624081262878615\n",
      "Epoch #49: mean_squared_error 29.113975987851042\n",
      "Epoch #50: mean_squared_error 31.89568186886488\n"
     ]
    }
   ],
   "source": [
    "from sklearn.model_selection import train_test_split\n",
    "B_mean_squared_errors = []\n",
    "for epoch in range(50):\n",
    "    X_train, X_test, y_train, y_test = train_test_split(predictors_norm, target, test_size=0.3)\n",
    "    res = modelB.fit(X_train, y_train, epochs=50, verbose=0, validation_data=(X_test, y_test))\n",
    "    mean_squared_error = res.history['val_loss'][-1]\n",
    "    B_mean_squared_errors.append(mean_squared_error)\n",
    "    print('Epoch #{}: mean_squared_error {}'.format(epoch+1, mean_squared_error))"
   ]
  },
  {
   "cell_type": "code",
   "execution_count": 32,
   "id": "d730bd6f-8d7c-4f8f-9285-37c509008aca",
   "metadata": {
    "tags": []
   },
   "outputs": [
    {
     "name": "stdout",
     "output_type": "stream",
     "text": [
      "The mean of the mean squared errors: 49.87950074729796\n",
      "The standard deviation of the mean squared errors: 66.72749621161523\n"
     ]
    }
   ],
   "source": [
    "mean_value = np.mean(B_mean_squared_errors)\n",
    "std_value = np.std(B_mean_squared_errors)\n",
    "\n",
    "print(f'The mean of the mean squared errors: {mean_value}')\n",
    "print(f'The standard deviation of the mean squared errors: {std_value}')"
   ]
  },
  {
   "cell_type": "markdown",
   "id": "953fb602-d015-4f46-a716-0e9d7c448768",
   "metadata": {},
   "source": [
    "The mean and standard deviation in comparison to A is both fairly less, indicating that normalizing the data helped reduced the error. "
   ]
  },
  {
   "cell_type": "markdown",
   "id": "6cd219fb-f463-4e6f-bfbc-5cf0cca46677",
   "metadata": {},
   "source": [
    "# Part C: Increase the number of epochs"
   ]
  },
  {
   "cell_type": "markdown",
   "id": "9c2a6fb0-efef-4dde-936f-22eb0ed3edfa",
   "metadata": {
    "tags": []
   },
   "source": [
    "Repeat Part B but use 100 epochs this time for training.\n",
    "\n",
    "How does the mean of the mean squared errors compare to that from Step B?\n",
    "\n",
    "Train and test the model at the same time using the fit-method. We will leave out 30% of the data (data after normalization) for validation and we will train the model for 100 epochs instead of 50 epochs."
   ]
  },
  {
   "cell_type": "code",
   "execution_count": 33,
   "id": "7d7536ea-a2a5-4810-93a2-f244043bb569",
   "metadata": {
    "tags": []
   },
   "outputs": [],
   "source": [
    "def regression_modelC():\n",
    "    modelC = Sequential()\n",
    "    modelC.add(Dense(10, activation='relu', input_shape=(n_cols,)))\n",
    "    modelC.add(Dense(1))\n",
    "    \n",
    "    modelC.compile(optimizer='adam', loss='mean_squared_error')\n",
    "    return modelC"
   ]
  },
  {
   "cell_type": "code",
   "execution_count": 34,
   "id": "98fa8dc9-bc25-4668-8ee1-04b2c4d5dbfa",
   "metadata": {
    "tags": []
   },
   "outputs": [],
   "source": [
    "modelC = regression_modelC() "
   ]
  },
  {
   "cell_type": "code",
   "execution_count": 35,
   "id": "d92f6315-6f82-4de3-b403-2bf2ae791e56",
   "metadata": {
    "tags": []
   },
   "outputs": [
    {
     "name": "stdout",
     "output_type": "stream",
     "text": [
      "Epoch #1: mean_squared_error 315.45540236192227\n",
      "Epoch #2: mean_squared_error 147.41360369932303\n",
      "Epoch #3: mean_squared_error 140.32763010166997\n",
      "Epoch #4: mean_squared_error 104.28987469719452\n",
      "Epoch #5: mean_squared_error 97.76742452479489\n",
      "Epoch #6: mean_squared_error 92.54551262222833\n",
      "Epoch #7: mean_squared_error 80.94648362440584\n",
      "Epoch #8: mean_squared_error 80.83635546242921\n",
      "Epoch #9: mean_squared_error 70.3571030576638\n",
      "Epoch #10: mean_squared_error 68.60681754794321\n",
      "Epoch #11: mean_squared_error 57.690255149668474\n",
      "Epoch #12: mean_squared_error 52.52209431916765\n",
      "Epoch #13: mean_squared_error 41.578856570049396\n",
      "Epoch #14: mean_squared_error 55.12346061533709\n",
      "Epoch #15: mean_squared_error 45.56177949133814\n",
      "Epoch #16: mean_squared_error 56.444063896500175\n",
      "Epoch #17: mean_squared_error 47.40389754162637\n",
      "Epoch #18: mean_squared_error 41.65774442308543\n",
      "Epoch #19: mean_squared_error 45.96033459265255\n",
      "Epoch #20: mean_squared_error 49.12250486701052\n",
      "Epoch #21: mean_squared_error 46.2865227511014\n",
      "Epoch #22: mean_squared_error 42.41241190888735\n",
      "Epoch #23: mean_squared_error 44.676761355600696\n",
      "Epoch #24: mean_squared_error 45.362204554783105\n",
      "Epoch #25: mean_squared_error 49.7461851299002\n",
      "Epoch #26: mean_squared_error 48.272783816439436\n",
      "Epoch #27: mean_squared_error 49.62965597998363\n",
      "Epoch #28: mean_squared_error 42.87432265050203\n",
      "Epoch #29: mean_squared_error 48.21380652270271\n",
      "Epoch #30: mean_squared_error 47.07220210843873\n",
      "Epoch #31: mean_squared_error 43.009860708489775\n",
      "Epoch #32: mean_squared_error 40.61138950582461\n",
      "Epoch #33: mean_squared_error 38.230848756808676\n",
      "Epoch #34: mean_squared_error 39.847275780242626\n",
      "Epoch #35: mean_squared_error 41.025330305871066\n",
      "Epoch #36: mean_squared_error 44.2361389024358\n",
      "Epoch #37: mean_squared_error 42.206052465346254\n",
      "Epoch #38: mean_squared_error 40.691811953547706\n",
      "Epoch #39: mean_squared_error 45.7446491031585\n",
      "Epoch #40: mean_squared_error 40.39791111498589\n",
      "Epoch #41: mean_squared_error 42.00170572521617\n",
      "Epoch #42: mean_squared_error 39.44368925989639\n",
      "Epoch #43: mean_squared_error 39.95064550850384\n",
      "Epoch #44: mean_squared_error 38.1363129970711\n",
      "Epoch #45: mean_squared_error 44.17942764380989\n",
      "Epoch #46: mean_squared_error 45.10117511687541\n",
      "Epoch #47: mean_squared_error 47.733650034685354\n",
      "Epoch #48: mean_squared_error 44.977633281818875\n",
      "Epoch #49: mean_squared_error 50.05671625229919\n",
      "Epoch #50: mean_squared_error 41.88914278641488\n"
     ]
    }
   ],
   "source": [
    "from sklearn.model_selection import train_test_split\n",
    "C_mean_squared_errors = []\n",
    "for epoch in range(50):\n",
    "    X_train, X_test, y_train, y_test = train_test_split(predictors_norm, target, test_size=0.3)\n",
    "    res = modelC.fit(X_train, y_train, epochs=50, verbose=0, validation_data=(X_test, y_test))\n",
    "    mean_squared_error = res.history['val_loss'][-1]\n",
    "    C_mean_squared_errors.append(mean_squared_error)\n",
    "    print('Epoch #{}: mean_squared_error {}'.format(epoch+1, mean_squared_error))"
   ]
  },
  {
   "cell_type": "code",
   "execution_count": 36,
   "id": "8146aa69-92f3-4af5-89bc-857c30d04344",
   "metadata": {
    "tags": []
   },
   "outputs": [
    {
     "name": "stdout",
     "output_type": "stream",
     "text": [
      "The mean of the mean squared errors: 60.112588462953056\n",
      "The standard deviation of the mean squared errors: 43.4823514534679\n"
     ]
    }
   ],
   "source": [
    "mean_value = np.mean(C_mean_squared_errors)\n",
    "std_value = np.std(C_mean_squared_errors)\n",
    "\n",
    "print(f'The mean of the mean squared errors: {mean_value}')\n",
    "print(f'The standard deviation of the mean squared errors: {std_value}')"
   ]
  },
  {
   "cell_type": "markdown",
   "id": "61b42bce-b6d9-4b2a-a1af-b1e95fca2c57",
   "metadata": {},
   "source": [
    "It seems like the mean and standard deviation are both very similar in comparison to part B."
   ]
  },
  {
   "cell_type": "markdown",
   "id": "b52ff912-1f4a-4b6a-90db-17efe43e4cc2",
   "metadata": {},
   "source": [
    "# Part D: Increase the number of hidden layers"
   ]
  },
  {
   "cell_type": "markdown",
   "id": "7211d9ca-9ef7-4413-ac05-a62beb7c7c89",
   "metadata": {
    "tags": []
   },
   "source": [
    "Repeat part B but use a neural network with the following instead:\n",
    "\n",
    "Three hidden layers, each of 10 nodes and ReLU activation function.\n",
    "How does the mean of the mean squared errors compare to that from Step B?\n",
    "\n",
    "Create a new model with three hidden layers, each of 10 nodes and ReLU activation function."
   ]
  },
  {
   "cell_type": "code",
   "execution_count": 37,
   "id": "7f14e564-9dce-4908-a7d0-fd1e85a361f9",
   "metadata": {
    "tags": []
   },
   "outputs": [],
   "source": [
    "def regression_modelD():\n",
    "    modelD = Sequential()\n",
    "    modelD.add(Dense(10, activation='relu', input_shape=(n_cols,)))\n",
    "    modelD.add(Dense(10, activation='relu'))\n",
    "    modelD.add(Dense(10, activation='relu'))\n",
    "    modelD.add(Dense(1))\n",
    "    \n",
    "    modelD.compile(optimizer='adam', loss='mean_squared_error')\n",
    "    return modelD"
   ]
  },
  {
   "cell_type": "code",
   "execution_count": 38,
   "id": "d57728ee-a834-43ad-b8a9-d86e76112ee9",
   "metadata": {
    "tags": []
   },
   "outputs": [],
   "source": [
    "modelD = regression_modelD()"
   ]
  },
  {
   "cell_type": "code",
   "execution_count": 39,
   "id": "81b40318-a108-46b3-8856-825feb3b56fd",
   "metadata": {
    "tags": []
   },
   "outputs": [
    {
     "name": "stdout",
     "output_type": "stream",
     "text": [
      "Epoch #1: mean_squared_error 114.17832292476518\n",
      "Epoch #2: mean_squared_error 69.4446599892428\n",
      "Epoch #3: mean_squared_error 44.02836284205366\n",
      "Epoch #4: mean_squared_error 40.69353802381596\n",
      "Epoch #5: mean_squared_error 30.426959386535447\n",
      "Epoch #6: mean_squared_error 27.150615827936956\n",
      "Epoch #7: mean_squared_error 25.934255686392675\n",
      "Epoch #8: mean_squared_error 31.207246564352783\n",
      "Epoch #9: mean_squared_error 28.153956638570744\n",
      "Epoch #10: mean_squared_error 28.219566758782346\n",
      "Epoch #11: mean_squared_error 27.55519253999284\n",
      "Epoch #12: mean_squared_error 26.90124395981576\n",
      "Epoch #13: mean_squared_error 27.3513232049047\n",
      "Epoch #14: mean_squared_error 25.33335390060079\n",
      "Epoch #15: mean_squared_error 25.718531932645632\n",
      "Epoch #16: mean_squared_error 27.92875529415785\n",
      "Epoch #17: mean_squared_error 22.22807047205064\n",
      "Epoch #18: mean_squared_error 23.364294184835984\n",
      "Epoch #19: mean_squared_error 26.817403250141822\n",
      "Epoch #20: mean_squared_error 23.72879419666278\n",
      "Epoch #21: mean_squared_error 24.399925867716473\n",
      "Epoch #22: mean_squared_error 24.974572468729853\n",
      "Epoch #23: mean_squared_error 21.754258646548372\n",
      "Epoch #24: mean_squared_error 23.989650902238864\n",
      "Epoch #25: mean_squared_error 26.041172441155393\n",
      "Epoch #26: mean_squared_error 19.786859888860707\n",
      "Epoch #27: mean_squared_error 25.843700300914183\n",
      "Epoch #28: mean_squared_error 21.706335965869496\n",
      "Epoch #29: mean_squared_error 22.346266379248362\n",
      "Epoch #30: mean_squared_error 25.448706364554496\n",
      "Epoch #31: mean_squared_error 20.358551451303427\n",
      "Epoch #32: mean_squared_error 20.171715622195148\n",
      "Epoch #33: mean_squared_error 23.319176683148132\n",
      "Epoch #34: mean_squared_error 20.640028475171924\n",
      "Epoch #35: mean_squared_error 23.40730169290092\n",
      "Epoch #36: mean_squared_error 19.684026600859312\n",
      "Epoch #37: mean_squared_error 17.080506321681742\n",
      "Epoch #38: mean_squared_error 24.447641996118243\n",
      "Epoch #39: mean_squared_error 19.11820596244343\n",
      "Epoch #40: mean_squared_error 24.063078099469923\n",
      "Epoch #41: mean_squared_error 20.958379498577425\n",
      "Epoch #42: mean_squared_error 23.6142038079913\n",
      "Epoch #43: mean_squared_error 20.98030882282936\n",
      "Epoch #44: mean_squared_error 20.233346939086914\n",
      "Epoch #45: mean_squared_error 21.598930216915786\n",
      "Epoch #46: mean_squared_error 19.429072719561628\n",
      "Epoch #47: mean_squared_error 23.21078878544681\n",
      "Epoch #48: mean_squared_error 23.723080101136638\n",
      "Epoch #49: mean_squared_error 23.14667275191125\n",
      "Epoch #50: mean_squared_error 24.632826876100214\n"
     ]
    }
   ],
   "source": [
    "from sklearn.model_selection import train_test_split\n",
    "D_mean_squared_errors = []\n",
    "for epoch in range(50):\n",
    "    X_train, X_test, y_train, y_test = train_test_split(predictors_norm, target, test_size=0.3)\n",
    "    res = modelD.fit(X_train, y_train, epochs=50, verbose=0, validation_data=(X_test, y_test))\n",
    "    mean_squared_error = res.history['val_loss'][-1]\n",
    "    D_mean_squared_errors.append(mean_squared_error)\n",
    "    print('Epoch #{}: mean_squared_error {}'.format(epoch+1, mean_squared_error))"
   ]
  },
  {
   "cell_type": "code",
   "execution_count": 40,
   "id": "749c9925-ef3f-4735-b44d-7a3aa9636910",
   "metadata": {
    "tags": []
   },
   "outputs": [
    {
     "name": "stdout",
     "output_type": "stream",
     "text": [
      "The mean of the mean squared errors: 27.329474804578858\n",
      "The standard deviation of the mean squared errors: 14.67119244830501\n"
     ]
    }
   ],
   "source": [
    "mean_value = np.mean(D_mean_squared_errors)\n",
    "std_value = np.std(D_mean_squared_errors)\n",
    "\n",
    "print(f'The mean of the mean squared errors: {mean_value}')\n",
    "print(f'The standard deviation of the mean squared errors: {std_value}')"
   ]
  },
  {
   "cell_type": "markdown",
   "id": "a148eb33-bacc-4cc9-82bd-fb8ca54aa9bf",
   "metadata": {},
   "source": [
    "It seems like this was the lowest error produced in comparison between part A, B, and C. "
   ]
  },
  {
   "cell_type": "code",
   "execution_count": null,
   "id": "e394f6c0-e163-4c10-8a72-eff94c3e8db0",
   "metadata": {},
   "outputs": [],
   "source": []
  }
 ],
 "metadata": {
  "kernelspec": {
   "display_name": "Python",
   "language": "python",
   "name": "conda-env-python-py"
  },
  "language_info": {
   "codemirror_mode": {
    "name": "ipython",
    "version": 3
   },
   "file_extension": ".py",
   "mimetype": "text/x-python",
   "name": "python",
   "nbconvert_exporter": "python",
   "pygments_lexer": "ipython3",
   "version": "3.7.12"
  }
 },
 "nbformat": 4,
 "nbformat_minor": 5
}
